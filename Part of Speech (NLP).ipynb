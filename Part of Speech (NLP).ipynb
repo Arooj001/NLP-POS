{
 "cells": [
  {
   "cell_type": "markdown",
   "id": "f10d8ef8",
   "metadata": {},
   "source": [
    "***Importing Library***"
   ]
  },
  {
   "cell_type": "code",
   "execution_count": 1,
   "id": "341f6b6f",
   "metadata": {},
   "outputs": [],
   "source": [
    "import spacy"
   ]
  },
  {
   "cell_type": "markdown",
   "id": "ee9955dc",
   "metadata": {},
   "source": [
    "***POS Tags***"
   ]
  },
  {
   "cell_type": "code",
   "execution_count": 2,
   "id": "46209f18",
   "metadata": {},
   "outputs": [],
   "source": [
    "nlp = spacy.load(\"en_core_web_sm\")"
   ]
  },
  {
   "cell_type": "code",
   "execution_count": 5,
   "id": "830f2f10",
   "metadata": {},
   "outputs": [
    {
     "name": "stdout",
     "output_type": "stream",
     "text": [
      "I  |  95\n",
      "am  |  87\n",
      "driving  |  100\n",
      "a  |  90\n",
      "car  |  92\n",
      "for  |  85\n",
      "four  |  93\n",
      "hours  |  92\n",
      ".  |  97\n",
      "I  |  95\n",
      "feels  |  100\n",
      "tired  |  84\n",
      "now  |  86\n"
     ]
    }
   ],
   "source": [
    "doc = nlp(\"I am driving a car for four hours. I feels tired now\")\n",
    "\n",
    "for token in doc:\n",
    "    print(token, \" | \", token.pos)"
   ]
  },
  {
   "cell_type": "code",
   "execution_count": 6,
   "id": "b9ee7707",
   "metadata": {},
   "outputs": [
    {
     "name": "stdout",
     "output_type": "stream",
     "text": [
      "I  |  PRON\n",
      "am  |  AUX\n",
      "driving  |  VERB\n",
      "a  |  DET\n",
      "car  |  NOUN\n",
      "for  |  ADP\n",
      "four  |  NUM\n",
      "hours  |  NOUN\n",
      ".  |  PUNCT\n",
      "I  |  PRON\n",
      "feels  |  VERB\n",
      "tired  |  ADJ\n",
      "now  |  ADV\n"
     ]
    }
   ],
   "source": [
    "doc = nlp(\"I am driving a car for four hours. I feels tired now\")\n",
    "\n",
    "for token in doc:\n",
    "    print(token, \" | \", token.pos_)"
   ]
  },
  {
   "cell_type": "code",
   "execution_count": 8,
   "id": "7b3d3019",
   "metadata": {},
   "outputs": [
    {
     "name": "stdout",
     "output_type": "stream",
     "text": [
      "I  |  PRON  |  pronoun\n",
      "am  |  AUX  |  auxiliary\n",
      "driving  |  VERB  |  verb\n",
      "a  |  DET  |  determiner\n",
      "car  |  NOUN  |  noun\n",
      "for  |  ADP  |  adposition\n",
      "four  |  NUM  |  numeral\n",
      "hours  |  NOUN  |  noun\n",
      ".  |  PUNCT  |  punctuation\n",
      "I  |  PRON  |  pronoun\n",
      "feels  |  VERB  |  verb\n",
      "tired  |  ADJ  |  adjective\n",
      "now  |  ADV  |  adverb\n"
     ]
    }
   ],
   "source": [
    "doc = nlp(\"I am driving a car for four hours. I feels tired now\")\n",
    "\n",
    "for token in doc:\n",
    "    print(token, \" | \", token.pos_, \" | \", spacy.explain(token.pos_))"
   ]
  },
  {
   "cell_type": "code",
   "execution_count": 9,
   "id": "bfac5b12",
   "metadata": {},
   "outputs": [
    {
     "data": {
      "text/plain": [
       "['tok2vec', 'tagger', 'parser', 'attribute_ruler', 'lemmatizer', 'ner']"
      ]
     },
     "execution_count": 9,
     "metadata": {},
     "output_type": "execute_result"
    }
   ],
   "source": [
    "nlp.pipe_names"
   ]
  },
  {
   "cell_type": "code",
   "execution_count": 10,
   "id": "a59f64d9",
   "metadata": {},
   "outputs": [
    {
     "name": "stdout",
     "output_type": "stream",
     "text": [
      "Wow  |  INTJ  |  interjection\n",
      "!  |  PUNCT  |  punctuation\n",
      "i  |  PRON  |  pronoun\n",
      "was  |  AUX  |  auxiliary\n",
      "wondering  |  VERB  |  verb\n",
      "that  |  SCONJ  |  subordinating conjunction\n",
      "how  |  SCONJ  |  subordinating conjunction\n",
      "could  |  AUX  |  auxiliary\n",
      "i  |  PRON  |  pronoun\n",
      "watch  |  VERB  |  verb\n",
      "Dark  |  PROPN  |  proper noun\n",
      "Hour  |  PROPN  |  proper noun\n"
     ]
    }
   ],
   "source": [
    "doc = nlp(\"Wow! i was wondering that how could i watch Dark Hour\")\n",
    "\n",
    "for token in doc:\n",
    "    print(token, \" | \", token.pos_, \" | \", spacy.explain(token.pos_))"
   ]
  },
  {
   "cell_type": "markdown",
   "id": "b92a35a1",
   "metadata": {},
   "source": [
    "***TAGS***"
   ]
  },
  {
   "cell_type": "code",
   "execution_count": 11,
   "id": "b5af09a6",
   "metadata": {},
   "outputs": [
    {
     "name": "stdout",
     "output_type": "stream",
     "text": [
      "Wow  |  INTJ  |  interjection  |  UH  |  interjection\n",
      "!  |  PUNCT  |  punctuation  |  .  |  punctuation mark, sentence closer\n",
      "i  |  PRON  |  pronoun  |  PRP  |  pronoun, personal\n",
      "was  |  AUX  |  auxiliary  |  VBD  |  verb, past tense\n",
      "wondering  |  VERB  |  verb  |  VBG  |  verb, gerund or present participle\n",
      "that  |  SCONJ  |  subordinating conjunction  |  IN  |  conjunction, subordinating or preposition\n",
      "how  |  SCONJ  |  subordinating conjunction  |  WRB  |  wh-adverb\n",
      "could  |  AUX  |  auxiliary  |  MD  |  verb, modal auxiliary\n",
      "i  |  PRON  |  pronoun  |  PRP  |  pronoun, personal\n",
      "watch  |  VERB  |  verb  |  VB  |  verb, base form\n",
      "Dark  |  PROPN  |  proper noun  |  NNP  |  noun, proper singular\n",
      "Hour  |  PROPN  |  proper noun  |  NNP  |  noun, proper singular\n"
     ]
    }
   ],
   "source": [
    "doc = nlp(\"Wow! i was wondering that how could i watch Dark Hour\")\n",
    "\n",
    "for token in doc:\n",
    "    print(token, \" | \", token.pos_, \" | \", spacy.explain(token.pos_), \" | \", token.tag_, \" | \", spacy.explain(token.tag_))"
   ]
  },
  {
   "cell_type": "markdown",
   "id": "882524f5",
   "metadata": {},
   "source": [
    "***Figuring out past and present Tense***"
   ]
  },
  {
   "cell_type": "code",
   "execution_count": 12,
   "id": "587c974f",
   "metadata": {},
   "outputs": [
    {
     "name": "stdout",
     "output_type": "stream",
     "text": [
      "quits | VBZ | verb, 3rd person singular present\n"
     ]
    }
   ],
   "source": [
    "doc = nlp(\"He quits the job\")\n",
    "\n",
    "doc[1]\n",
    "print(doc[1].text, \"|\", doc[1].tag_, \"|\", spacy.explain(doc[1].tag_))"
   ]
  },
  {
   "cell_type": "code",
   "execution_count": 13,
   "id": "0c71c009",
   "metadata": {},
   "outputs": [
    {
     "name": "stdout",
     "output_type": "stream",
     "text": [
      "quit | VBD | verb, past tense\n"
     ]
    }
   ],
   "source": [
    "doc = nlp(\"He quit the job\")\n",
    "\n",
    "doc[1]\n",
    "print(doc[1].text, \"|\", doc[1].tag_, \"|\", spacy.explain(doc[1].tag_))"
   ]
  },
  {
   "cell_type": "markdown",
   "id": "ddef74c0",
   "metadata": {},
   "source": [
    "***Removing Space, X and Punct***"
   ]
  },
  {
   "cell_type": "code",
   "execution_count": 14,
   "id": "c0559b1d",
   "metadata": {},
   "outputs": [],
   "source": [
    "text=\"\"\"Microsoft Corp. today announced the following results for the quarter ended December 31, 2021, \n",
    "as compared to the corresponding period of last fiscal year:\n",
    "\n",
    "·         Revenue was $51.7 billion and increased 20%\n",
    "·         Operating income was $22.2 billion and increased 24%\n",
    "·         Net income was $18.8 billion and increased 21%\n",
    "·         Diluted earnings per share was $2.48 and increased 22%\n",
    "“Digital technology is the most malleable resource at the world’s disposal to overcome constraints and \n",
    "reimagine everyday work and life,” said Satya Nadella, chairman and chief executive officer of Microsoft. \n",
    "“As tech as a percentage of global GDP continues to increase, we are innovating and investing across diverse \n",
    "and growing markets, with a common underlying technology stack and an operating model that reinforces a common \n",
    "strategy, culture, and sense of purpose.” “Solid commercial execution, represented by strong bookings growth \n",
    "driven by long-term Azure commitments, increased Microsoft Cloud revenue to $22.1 billion, up 32% year over year” \n",
    "said Amy Hood, executive vice president and chief financial officer of Microsoft.\"\"\"\n",
    "\n",
    "doc = nlp(text)"
   ]
  },
  {
   "cell_type": "code",
   "execution_count": 15,
   "id": "83202ec5",
   "metadata": {},
   "outputs": [
    {
     "name": "stdout",
     "output_type": "stream",
     "text": [
      "Microsoft  |  PROPN  |  proper noun\n",
      "Corp.  |  PROPN  |  proper noun\n",
      "today  |  NOUN  |  noun\n",
      "announced  |  VERB  |  verb\n",
      "the  |  DET  |  determiner\n",
      "following  |  VERB  |  verb\n",
      "results  |  NOUN  |  noun\n",
      "for  |  ADP  |  adposition\n",
      "the  |  DET  |  determiner\n",
      "quarter  |  NOUN  |  noun\n",
      "ended  |  VERB  |  verb\n",
      "December  |  PROPN  |  proper noun\n",
      "31  |  NUM  |  numeral\n",
      ",  |  PUNCT  |  punctuation\n",
      "2021  |  NUM  |  numeral\n",
      ",  |  PUNCT  |  punctuation\n",
      "\n",
      "  |  SPACE  |  space\n",
      "as  |  SCONJ  |  subordinating conjunction\n",
      "compared  |  VERB  |  verb\n",
      "to  |  ADP  |  adposition\n",
      "the  |  DET  |  determiner\n",
      "corresponding  |  ADJ  |  adjective\n",
      "period  |  NOUN  |  noun\n",
      "of  |  ADP  |  adposition\n",
      "last  |  ADJ  |  adjective\n",
      "fiscal  |  ADJ  |  adjective\n",
      "year  |  NOUN  |  noun\n",
      ":  |  PUNCT  |  punctuation\n",
      "\n",
      "\n",
      "  |  SPACE  |  space\n",
      "·  |  PUNCT  |  punctuation\n",
      "          |  SPACE  |  space\n",
      "Revenue  |  NOUN  |  noun\n",
      "was  |  AUX  |  auxiliary\n",
      "$  |  SYM  |  symbol\n",
      "51.7  |  NUM  |  numeral\n",
      "billion  |  NUM  |  numeral\n",
      "and  |  CCONJ  |  coordinating conjunction\n",
      "increased  |  VERB  |  verb\n",
      "20  |  NUM  |  numeral\n",
      "%  |  NOUN  |  noun\n",
      "\n",
      "  |  SPACE  |  space\n",
      "·  |  PUNCT  |  punctuation\n",
      "          |  SPACE  |  space\n",
      "Operating  |  VERB  |  verb\n",
      "income  |  NOUN  |  noun\n",
      "was  |  AUX  |  auxiliary\n",
      "$  |  SYM  |  symbol\n",
      "22.2  |  NUM  |  numeral\n",
      "billion  |  NUM  |  numeral\n",
      "and  |  CCONJ  |  coordinating conjunction\n",
      "increased  |  VERB  |  verb\n",
      "24  |  NUM  |  numeral\n",
      "%  |  NOUN  |  noun\n",
      "\n",
      "  |  SPACE  |  space\n",
      "·  |  PUNCT  |  punctuation\n",
      "          |  SPACE  |  space\n",
      "Net  |  ADJ  |  adjective\n",
      "income  |  NOUN  |  noun\n",
      "was  |  AUX  |  auxiliary\n",
      "$  |  SYM  |  symbol\n",
      "18.8  |  NUM  |  numeral\n",
      "billion  |  NUM  |  numeral\n",
      "and  |  CCONJ  |  coordinating conjunction\n",
      "increased  |  VERB  |  verb\n",
      "21  |  NUM  |  numeral\n",
      "%  |  NOUN  |  noun\n",
      "\n",
      "  |  SPACE  |  space\n",
      "·  |  PUNCT  |  punctuation\n",
      "          |  SPACE  |  space\n",
      "Diluted  |  VERB  |  verb\n",
      "earnings  |  NOUN  |  noun\n",
      "per  |  ADP  |  adposition\n",
      "share  |  NOUN  |  noun\n",
      "was  |  AUX  |  auxiliary\n",
      "$  |  SYM  |  symbol\n",
      "2.48  |  NUM  |  numeral\n",
      "and  |  CCONJ  |  coordinating conjunction\n",
      "increased  |  VERB  |  verb\n",
      "22  |  NUM  |  numeral\n",
      "%  |  NOUN  |  noun\n",
      "\n",
      "  |  SPACE  |  space\n",
      "“  |  PUNCT  |  punctuation\n",
      "Digital  |  PROPN  |  proper noun\n",
      "technology  |  NOUN  |  noun\n",
      "is  |  AUX  |  auxiliary\n",
      "the  |  DET  |  determiner\n",
      "most  |  ADV  |  adverb\n",
      "malleable  |  ADJ  |  adjective\n",
      "resource  |  NOUN  |  noun\n",
      "at  |  ADP  |  adposition\n",
      "the  |  DET  |  determiner\n",
      "world  |  NOUN  |  noun\n",
      "’s  |  PART  |  particle\n",
      "disposal  |  NOUN  |  noun\n",
      "to  |  PART  |  particle\n",
      "overcome  |  VERB  |  verb\n",
      "constraints  |  NOUN  |  noun\n",
      "and  |  CCONJ  |  coordinating conjunction\n",
      "\n",
      "  |  SPACE  |  space\n",
      "reimagine  |  VERB  |  verb\n",
      "everyday  |  ADJ  |  adjective\n",
      "work  |  NOUN  |  noun\n",
      "and  |  CCONJ  |  coordinating conjunction\n",
      "life  |  NOUN  |  noun\n",
      ",  |  PUNCT  |  punctuation\n",
      "”  |  PUNCT  |  punctuation\n",
      "said  |  VERB  |  verb\n",
      "Satya  |  PROPN  |  proper noun\n",
      "Nadella  |  PROPN  |  proper noun\n",
      ",  |  PUNCT  |  punctuation\n",
      "chairman  |  NOUN  |  noun\n",
      "and  |  CCONJ  |  coordinating conjunction\n",
      "chief  |  ADJ  |  adjective\n",
      "executive  |  ADJ  |  adjective\n",
      "officer  |  NOUN  |  noun\n",
      "of  |  ADP  |  adposition\n",
      "Microsoft  |  PROPN  |  proper noun\n",
      ".  |  PUNCT  |  punctuation\n",
      "\n",
      "  |  SPACE  |  space\n",
      "“  |  PUNCT  |  punctuation\n",
      "As  |  ADP  |  adposition\n",
      "tech  |  NOUN  |  noun\n",
      "as  |  ADP  |  adposition\n",
      "a  |  DET  |  determiner\n",
      "percentage  |  NOUN  |  noun\n",
      "of  |  ADP  |  adposition\n",
      "global  |  ADJ  |  adjective\n",
      "GDP  |  PROPN  |  proper noun\n",
      "continues  |  VERB  |  verb\n",
      "to  |  PART  |  particle\n",
      "increase  |  VERB  |  verb\n",
      ",  |  PUNCT  |  punctuation\n",
      "we  |  PRON  |  pronoun\n",
      "are  |  AUX  |  auxiliary\n",
      "innovating  |  VERB  |  verb\n",
      "and  |  CCONJ  |  coordinating conjunction\n",
      "investing  |  VERB  |  verb\n",
      "across  |  ADP  |  adposition\n",
      "diverse  |  ADJ  |  adjective\n",
      "\n",
      "  |  SPACE  |  space\n",
      "and  |  CCONJ  |  coordinating conjunction\n",
      "growing  |  VERB  |  verb\n",
      "markets  |  NOUN  |  noun\n",
      ",  |  PUNCT  |  punctuation\n",
      "with  |  ADP  |  adposition\n",
      "a  |  DET  |  determiner\n",
      "common  |  ADJ  |  adjective\n",
      "underlying  |  VERB  |  verb\n",
      "technology  |  NOUN  |  noun\n",
      "stack  |  NOUN  |  noun\n",
      "and  |  CCONJ  |  coordinating conjunction\n",
      "an  |  DET  |  determiner\n",
      "operating  |  NOUN  |  noun\n",
      "model  |  NOUN  |  noun\n",
      "that  |  PRON  |  pronoun\n",
      "reinforces  |  VERB  |  verb\n",
      "a  |  DET  |  determiner\n",
      "common  |  ADJ  |  adjective\n",
      "\n",
      "  |  SPACE  |  space\n",
      "strategy  |  NOUN  |  noun\n",
      ",  |  PUNCT  |  punctuation\n",
      "culture  |  NOUN  |  noun\n",
      ",  |  PUNCT  |  punctuation\n",
      "and  |  CCONJ  |  coordinating conjunction\n",
      "sense  |  NOUN  |  noun\n",
      "of  |  ADP  |  adposition\n",
      "purpose  |  NOUN  |  noun\n",
      ".  |  PUNCT  |  punctuation\n",
      "”  |  PUNCT  |  punctuation\n",
      "“  |  PUNCT  |  punctuation\n",
      "Solid  |  ADJ  |  adjective\n",
      "commercial  |  ADJ  |  adjective\n",
      "execution  |  NOUN  |  noun\n",
      ",  |  PUNCT  |  punctuation\n",
      "represented  |  VERB  |  verb\n",
      "by  |  ADP  |  adposition\n",
      "strong  |  ADJ  |  adjective\n",
      "bookings  |  NOUN  |  noun\n",
      "growth  |  NOUN  |  noun\n",
      "\n",
      "  |  SPACE  |  space\n",
      "driven  |  VERB  |  verb\n",
      "by  |  ADP  |  adposition\n",
      "long  |  ADJ  |  adjective\n",
      "-  |  PUNCT  |  punctuation\n",
      "term  |  NOUN  |  noun\n",
      "Azure  |  ADJ  |  adjective\n",
      "commitments  |  NOUN  |  noun\n",
      ",  |  PUNCT  |  punctuation\n",
      "increased  |  VERB  |  verb\n",
      "Microsoft  |  PROPN  |  proper noun\n",
      "Cloud  |  PROPN  |  proper noun\n",
      "revenue  |  NOUN  |  noun\n",
      "to  |  ADP  |  adposition\n",
      "$  |  SYM  |  symbol\n",
      "22.1  |  NUM  |  numeral\n",
      "billion  |  NUM  |  numeral\n",
      ",  |  PUNCT  |  punctuation\n",
      "up  |  ADV  |  adverb\n",
      "32  |  NUM  |  numeral\n",
      "%  |  NOUN  |  noun\n",
      "year  |  NOUN  |  noun\n",
      "over  |  ADP  |  adposition\n",
      "year  |  NOUN  |  noun\n",
      "”  |  PUNCT  |  punctuation\n",
      "\n",
      "  |  SPACE  |  space\n",
      "said  |  VERB  |  verb\n",
      "Amy  |  PROPN  |  proper noun\n",
      "Hood  |  PROPN  |  proper noun\n",
      ",  |  PUNCT  |  punctuation\n",
      "executive  |  ADJ  |  adjective\n",
      "vice  |  NOUN  |  noun\n",
      "president  |  NOUN  |  noun\n",
      "and  |  CCONJ  |  coordinating conjunction\n",
      "chief  |  ADJ  |  adjective\n",
      "financial  |  ADJ  |  adjective\n",
      "officer  |  NOUN  |  noun\n",
      "of  |  ADP  |  adposition\n",
      "Microsoft  |  PROPN  |  proper noun\n",
      ".  |  PUNCT  |  punctuation\n"
     ]
    }
   ],
   "source": [
    "for token in doc:\n",
    "        print(token, \" | \", token.pos_, \" | \", spacy.explain(token.pos_))"
   ]
  },
  {
   "cell_type": "code",
   "execution_count": 18,
   "id": "a4aebc42",
   "metadata": {
    "scrolled": true
   },
   "outputs": [
    {
     "name": "stdout",
     "output_type": "stream",
     "text": [
      ",  |  PUNCT  |  punctuation\n",
      ",  |  PUNCT  |  punctuation\n",
      "\n",
      "  |  SPACE  |  space\n",
      ":  |  PUNCT  |  punctuation\n",
      "\n",
      "\n",
      "  |  SPACE  |  space\n",
      "·  |  PUNCT  |  punctuation\n",
      "          |  SPACE  |  space\n",
      "\n",
      "  |  SPACE  |  space\n",
      "·  |  PUNCT  |  punctuation\n",
      "          |  SPACE  |  space\n",
      "\n",
      "  |  SPACE  |  space\n",
      "·  |  PUNCT  |  punctuation\n",
      "          |  SPACE  |  space\n",
      "\n",
      "  |  SPACE  |  space\n",
      "·  |  PUNCT  |  punctuation\n",
      "          |  SPACE  |  space\n",
      "\n",
      "  |  SPACE  |  space\n",
      "“  |  PUNCT  |  punctuation\n",
      "\n",
      "  |  SPACE  |  space\n",
      ",  |  PUNCT  |  punctuation\n",
      "”  |  PUNCT  |  punctuation\n",
      ",  |  PUNCT  |  punctuation\n",
      ".  |  PUNCT  |  punctuation\n",
      "\n",
      "  |  SPACE  |  space\n",
      "“  |  PUNCT  |  punctuation\n",
      ",  |  PUNCT  |  punctuation\n",
      "\n",
      "  |  SPACE  |  space\n",
      ",  |  PUNCT  |  punctuation\n",
      "\n",
      "  |  SPACE  |  space\n",
      ",  |  PUNCT  |  punctuation\n",
      ",  |  PUNCT  |  punctuation\n",
      ".  |  PUNCT  |  punctuation\n",
      "”  |  PUNCT  |  punctuation\n",
      "“  |  PUNCT  |  punctuation\n",
      ",  |  PUNCT  |  punctuation\n",
      "\n",
      "  |  SPACE  |  space\n",
      "-  |  PUNCT  |  punctuation\n",
      ",  |  PUNCT  |  punctuation\n",
      ",  |  PUNCT  |  punctuation\n",
      "”  |  PUNCT  |  punctuation\n",
      "\n",
      "  |  SPACE  |  space\n",
      ",  |  PUNCT  |  punctuation\n",
      ".  |  PUNCT  |  punctuation\n"
     ]
    }
   ],
   "source": [
    "for token in doc:\n",
    "    if token.pos_ in [\"SPACE\", \"X\", \"PUNCT\"]:\n",
    "        print(token, \" | \", token.pos_, \" | \", spacy.explain(token.pos_))"
   ]
  },
  {
   "cell_type": "code",
   "execution_count": 19,
   "id": "bbfcf592",
   "metadata": {},
   "outputs": [
    {
     "name": "stdout",
     "output_type": "stream",
     "text": [
      "Microsoft  |  PROPN  |  proper noun\n",
      "Corp.  |  PROPN  |  proper noun\n",
      "today  |  NOUN  |  noun\n",
      "announced  |  VERB  |  verb\n",
      "the  |  DET  |  determiner\n",
      "following  |  VERB  |  verb\n",
      "results  |  NOUN  |  noun\n",
      "for  |  ADP  |  adposition\n",
      "the  |  DET  |  determiner\n",
      "quarter  |  NOUN  |  noun\n",
      "ended  |  VERB  |  verb\n",
      "December  |  PROPN  |  proper noun\n",
      "31  |  NUM  |  numeral\n",
      "2021  |  NUM  |  numeral\n",
      "as  |  SCONJ  |  subordinating conjunction\n",
      "compared  |  VERB  |  verb\n",
      "to  |  ADP  |  adposition\n",
      "the  |  DET  |  determiner\n",
      "corresponding  |  ADJ  |  adjective\n",
      "period  |  NOUN  |  noun\n",
      "of  |  ADP  |  adposition\n",
      "last  |  ADJ  |  adjective\n",
      "fiscal  |  ADJ  |  adjective\n",
      "year  |  NOUN  |  noun\n",
      "Revenue  |  NOUN  |  noun\n",
      "was  |  AUX  |  auxiliary\n",
      "$  |  SYM  |  symbol\n",
      "51.7  |  NUM  |  numeral\n",
      "billion  |  NUM  |  numeral\n",
      "and  |  CCONJ  |  coordinating conjunction\n",
      "increased  |  VERB  |  verb\n",
      "20  |  NUM  |  numeral\n",
      "%  |  NOUN  |  noun\n",
      "Operating  |  VERB  |  verb\n",
      "income  |  NOUN  |  noun\n",
      "was  |  AUX  |  auxiliary\n",
      "$  |  SYM  |  symbol\n",
      "22.2  |  NUM  |  numeral\n",
      "billion  |  NUM  |  numeral\n",
      "and  |  CCONJ  |  coordinating conjunction\n",
      "increased  |  VERB  |  verb\n",
      "24  |  NUM  |  numeral\n",
      "%  |  NOUN  |  noun\n",
      "Net  |  ADJ  |  adjective\n",
      "income  |  NOUN  |  noun\n",
      "was  |  AUX  |  auxiliary\n",
      "$  |  SYM  |  symbol\n",
      "18.8  |  NUM  |  numeral\n",
      "billion  |  NUM  |  numeral\n",
      "and  |  CCONJ  |  coordinating conjunction\n",
      "increased  |  VERB  |  verb\n",
      "21  |  NUM  |  numeral\n",
      "%  |  NOUN  |  noun\n",
      "Diluted  |  VERB  |  verb\n",
      "earnings  |  NOUN  |  noun\n",
      "per  |  ADP  |  adposition\n",
      "share  |  NOUN  |  noun\n",
      "was  |  AUX  |  auxiliary\n",
      "$  |  SYM  |  symbol\n",
      "2.48  |  NUM  |  numeral\n",
      "and  |  CCONJ  |  coordinating conjunction\n",
      "increased  |  VERB  |  verb\n",
      "22  |  NUM  |  numeral\n",
      "%  |  NOUN  |  noun\n",
      "Digital  |  PROPN  |  proper noun\n",
      "technology  |  NOUN  |  noun\n",
      "is  |  AUX  |  auxiliary\n",
      "the  |  DET  |  determiner\n",
      "most  |  ADV  |  adverb\n",
      "malleable  |  ADJ  |  adjective\n",
      "resource  |  NOUN  |  noun\n",
      "at  |  ADP  |  adposition\n",
      "the  |  DET  |  determiner\n",
      "world  |  NOUN  |  noun\n",
      "’s  |  PART  |  particle\n",
      "disposal  |  NOUN  |  noun\n",
      "to  |  PART  |  particle\n",
      "overcome  |  VERB  |  verb\n",
      "constraints  |  NOUN  |  noun\n",
      "and  |  CCONJ  |  coordinating conjunction\n",
      "reimagine  |  VERB  |  verb\n",
      "everyday  |  ADJ  |  adjective\n",
      "work  |  NOUN  |  noun\n",
      "and  |  CCONJ  |  coordinating conjunction\n",
      "life  |  NOUN  |  noun\n",
      "said  |  VERB  |  verb\n",
      "Satya  |  PROPN  |  proper noun\n",
      "Nadella  |  PROPN  |  proper noun\n",
      "chairman  |  NOUN  |  noun\n",
      "and  |  CCONJ  |  coordinating conjunction\n",
      "chief  |  ADJ  |  adjective\n",
      "executive  |  ADJ  |  adjective\n",
      "officer  |  NOUN  |  noun\n",
      "of  |  ADP  |  adposition\n",
      "Microsoft  |  PROPN  |  proper noun\n",
      "As  |  ADP  |  adposition\n",
      "tech  |  NOUN  |  noun\n",
      "as  |  ADP  |  adposition\n",
      "a  |  DET  |  determiner\n",
      "percentage  |  NOUN  |  noun\n",
      "of  |  ADP  |  adposition\n",
      "global  |  ADJ  |  adjective\n",
      "GDP  |  PROPN  |  proper noun\n",
      "continues  |  VERB  |  verb\n",
      "to  |  PART  |  particle\n",
      "increase  |  VERB  |  verb\n",
      "we  |  PRON  |  pronoun\n",
      "are  |  AUX  |  auxiliary\n",
      "innovating  |  VERB  |  verb\n",
      "and  |  CCONJ  |  coordinating conjunction\n",
      "investing  |  VERB  |  verb\n",
      "across  |  ADP  |  adposition\n",
      "diverse  |  ADJ  |  adjective\n",
      "and  |  CCONJ  |  coordinating conjunction\n",
      "growing  |  VERB  |  verb\n",
      "markets  |  NOUN  |  noun\n",
      "with  |  ADP  |  adposition\n",
      "a  |  DET  |  determiner\n",
      "common  |  ADJ  |  adjective\n",
      "underlying  |  VERB  |  verb\n",
      "technology  |  NOUN  |  noun\n",
      "stack  |  NOUN  |  noun\n",
      "and  |  CCONJ  |  coordinating conjunction\n",
      "an  |  DET  |  determiner\n",
      "operating  |  NOUN  |  noun\n",
      "model  |  NOUN  |  noun\n",
      "that  |  PRON  |  pronoun\n",
      "reinforces  |  VERB  |  verb\n",
      "a  |  DET  |  determiner\n",
      "common  |  ADJ  |  adjective\n",
      "strategy  |  NOUN  |  noun\n",
      "culture  |  NOUN  |  noun\n",
      "and  |  CCONJ  |  coordinating conjunction\n",
      "sense  |  NOUN  |  noun\n",
      "of  |  ADP  |  adposition\n",
      "purpose  |  NOUN  |  noun\n",
      "Solid  |  ADJ  |  adjective\n",
      "commercial  |  ADJ  |  adjective\n",
      "execution  |  NOUN  |  noun\n",
      "represented  |  VERB  |  verb\n",
      "by  |  ADP  |  adposition\n",
      "strong  |  ADJ  |  adjective\n",
      "bookings  |  NOUN  |  noun\n",
      "growth  |  NOUN  |  noun\n",
      "driven  |  VERB  |  verb\n",
      "by  |  ADP  |  adposition\n",
      "long  |  ADJ  |  adjective\n",
      "term  |  NOUN  |  noun\n",
      "Azure  |  ADJ  |  adjective\n",
      "commitments  |  NOUN  |  noun\n",
      "increased  |  VERB  |  verb\n",
      "Microsoft  |  PROPN  |  proper noun\n",
      "Cloud  |  PROPN  |  proper noun\n",
      "revenue  |  NOUN  |  noun\n",
      "to  |  ADP  |  adposition\n",
      "$  |  SYM  |  symbol\n",
      "22.1  |  NUM  |  numeral\n",
      "billion  |  NUM  |  numeral\n",
      "up  |  ADV  |  adverb\n",
      "32  |  NUM  |  numeral\n",
      "%  |  NOUN  |  noun\n",
      "year  |  NOUN  |  noun\n",
      "over  |  ADP  |  adposition\n",
      "year  |  NOUN  |  noun\n",
      "said  |  VERB  |  verb\n",
      "Amy  |  PROPN  |  proper noun\n",
      "Hood  |  PROPN  |  proper noun\n",
      "executive  |  ADJ  |  adjective\n",
      "vice  |  NOUN  |  noun\n",
      "president  |  NOUN  |  noun\n",
      "and  |  CCONJ  |  coordinating conjunction\n",
      "chief  |  ADJ  |  adjective\n",
      "financial  |  ADJ  |  adjective\n",
      "officer  |  NOUN  |  noun\n",
      "of  |  ADP  |  adposition\n",
      "Microsoft  |  PROPN  |  proper noun\n"
     ]
    }
   ],
   "source": [
    "for token in doc:\n",
    "    if token.pos_ not in [\"SPACE\", \"X\", \"PUNCT\"]:\n",
    "        print(token, \" | \", token.pos_, \" | \", spacy.explain(token.pos_))"
   ]
  },
  {
   "cell_type": "code",
   "execution_count": 24,
   "id": "0243c701",
   "metadata": {},
   "outputs": [],
   "source": [
    "filtered_tokens = []\n",
    "\n",
    "for token in doc:\n",
    "    if token.pos_ not in [\"SPACE\", \"X\", \"PUNCT\"]:\n",
    "        filtered_tokens.append(token)"
   ]
  },
  {
   "cell_type": "code",
   "execution_count": 25,
   "id": "1c85bc10",
   "metadata": {
    "scrolled": true
   },
   "outputs": [
    {
     "data": {
      "text/plain": [
       "[Microsoft,\n",
       " Corp.,\n",
       " today,\n",
       " announced,\n",
       " the,\n",
       " following,\n",
       " results,\n",
       " for,\n",
       " the,\n",
       " quarter,\n",
       " ended,\n",
       " December,\n",
       " 31,\n",
       " 2021,\n",
       " as,\n",
       " compared,\n",
       " to,\n",
       " the,\n",
       " corresponding,\n",
       " period,\n",
       " of]"
      ]
     },
     "execution_count": 25,
     "metadata": {},
     "output_type": "execute_result"
    }
   ],
   "source": [
    "filtered_tokens[:21]"
   ]
  },
  {
   "cell_type": "code",
   "execution_count": 26,
   "id": "05cae382",
   "metadata": {},
   "outputs": [
    {
     "data": {
      "text/plain": [
       "{96: 13,\n",
       " 92: 46,\n",
       " 100: 24,\n",
       " 90: 9,\n",
       " 85: 17,\n",
       " 93: 16,\n",
       " 97: 27,\n",
       " 103: 16,\n",
       " 98: 1,\n",
       " 84: 20,\n",
       " 87: 6,\n",
       " 99: 5,\n",
       " 89: 12,\n",
       " 86: 2,\n",
       " 94: 3,\n",
       " 95: 2}"
      ]
     },
     "execution_count": 26,
     "metadata": {},
     "output_type": "execute_result"
    }
   ],
   "source": [
    "count = doc.count_by(spacy.attrs.POS)\n",
    "count"
   ]
  },
  {
   "cell_type": "code",
   "execution_count": 27,
   "id": "e0064ccd",
   "metadata": {},
   "outputs": [
    {
     "data": {
      "text/plain": [
       "'PROPN'"
      ]
     },
     "execution_count": 27,
     "metadata": {},
     "output_type": "execute_result"
    }
   ],
   "source": [
    "doc.vocab[96].text"
   ]
  },
  {
   "cell_type": "code",
   "execution_count": 28,
   "id": "5a412f29",
   "metadata": {},
   "outputs": [
    {
     "name": "stdout",
     "output_type": "stream",
     "text": [
      "PROPN | 13\n",
      "NOUN | 46\n",
      "VERB | 24\n",
      "DET | 9\n",
      "ADP | 17\n",
      "NUM | 16\n",
      "PUNCT | 27\n",
      "SPACE | 16\n",
      "SCONJ | 1\n",
      "ADJ | 20\n",
      "AUX | 6\n",
      "SYM | 5\n",
      "CCONJ | 12\n",
      "ADV | 2\n",
      "PART | 3\n",
      "PRON | 2\n"
     ]
    }
   ],
   "source": [
    "for k, v in count.items():\n",
    "    print(doc.vocab[k].text, \"|\", v)"
   ]
  }
 ],
 "metadata": {
  "kernelspec": {
   "display_name": "Python 3 (ipykernel)",
   "language": "python",
   "name": "python3"
  },
  "language_info": {
   "codemirror_mode": {
    "name": "ipython",
    "version": 3
   },
   "file_extension": ".py",
   "mimetype": "text/x-python",
   "name": "python",
   "nbconvert_exporter": "python",
   "pygments_lexer": "ipython3",
   "version": "3.11.5"
  }
 },
 "nbformat": 4,
 "nbformat_minor": 5
}
